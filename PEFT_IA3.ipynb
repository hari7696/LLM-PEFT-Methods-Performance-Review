{
 "cells": [
  {
   "cell_type": "code",
   "execution_count": null,
   "metadata": {},
   "outputs": [],
   "source": [
    "# IA3 https://arxiv.org/pdf/2205.05638\n",
    "# https://daniel-mekuriaw16.medium.com/amharic-ia3-peft-4f1067edbd79\n",
    "#  https://daniel-mekuriaw16.medium.com/amharic-ia3-peft-4f1067edbd79\n",
    "# https://drive.google.com/file/d/1LivrnwkGAJfmCo6kDLTUJNIoy8RlpRF7/view"
   ]
  }
 ],
 "metadata": {
  "language_info": {
   "name": "python"
  }
 },
 "nbformat": 4,
 "nbformat_minor": 2
}
